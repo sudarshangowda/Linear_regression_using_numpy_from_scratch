{
  "nbformat": 4,
  "nbformat_minor": 0,
  "metadata": {
    "colab": {
      "name": " ML_lab_linear_regression_class_interface.ipynb",
      "provenance": [],
      "collapsed_sections": []
    },
    "kernelspec": {
      "name": "python3",
      "display_name": "Python 3"
    },
    "language_info": {
      "name": "python"
    }
  },
  "cells": [
    {
      "cell_type": "code",
      "metadata": {
        "id": "vMGhwYgSuDeo"
      },
      "source": [
        "# importing all the required libraries\n",
        "import pandas as pd\n",
        "import numpy as np\n",
        "import matplotlib.pyplot as plt\n",
        "import math\n",
        "import os"
      ],
      "execution_count": null,
      "outputs": []
    },
    {
      "cell_type": "code",
      "metadata": {
        "id": "qJrHIPRRuR3D"
      },
      "source": [
        "dataframe = pd.read_csv(\"/mllab-03-auto-mpg.csv\") #loading the dataset"
      ],
      "execution_count": null,
      "outputs": []
    },
    {
      "cell_type": "code",
      "metadata": {
        "id": "aawcyeOvveQp"
      },
      "source": [
        "df = dataframe.drop([\"origin\", \"name\"], axis =1) #dropping least imporatant attributes"
      ],
      "execution_count": null,
      "outputs": []
    },
    {
      "cell_type": "code",
      "metadata": {
        "id": "oHYu-M0rv40G",
        "colab": {
          "base_uri": "https://localhost:8080/",
          "height": 204
        },
        "outputId": "f20cd0cc-6361-47ac-bdd1-33f9fbc8ca4a"
      },
      "source": [
        "df.head()  #reading first 5 rows of the dataset "
      ],
      "execution_count": null,
      "outputs": [
        {
          "output_type": "execute_result",
          "data": {
            "text/html": [
              "<div>\n",
              "<style scoped>\n",
              "    .dataframe tbody tr th:only-of-type {\n",
              "        vertical-align: middle;\n",
              "    }\n",
              "\n",
              "    .dataframe tbody tr th {\n",
              "        vertical-align: top;\n",
              "    }\n",
              "\n",
              "    .dataframe thead th {\n",
              "        text-align: right;\n",
              "    }\n",
              "</style>\n",
              "<table border=\"1\" class=\"dataframe\">\n",
              "  <thead>\n",
              "    <tr style=\"text-align: right;\">\n",
              "      <th></th>\n",
              "      <th>mpg</th>\n",
              "      <th>cylinders</th>\n",
              "      <th>displacement</th>\n",
              "      <th>horsepower</th>\n",
              "      <th>weight</th>\n",
              "      <th>acceleration</th>\n",
              "      <th>year</th>\n",
              "    </tr>\n",
              "  </thead>\n",
              "  <tbody>\n",
              "    <tr>\n",
              "      <th>0</th>\n",
              "      <td>18.0</td>\n",
              "      <td>8.0</td>\n",
              "      <td>307.0</td>\n",
              "      <td>130.0</td>\n",
              "      <td>3504.0</td>\n",
              "      <td>12.0</td>\n",
              "      <td>70.0</td>\n",
              "    </tr>\n",
              "    <tr>\n",
              "      <th>1</th>\n",
              "      <td>15.0</td>\n",
              "      <td>8.0</td>\n",
              "      <td>350.0</td>\n",
              "      <td>165.0</td>\n",
              "      <td>3693.0</td>\n",
              "      <td>11.5</td>\n",
              "      <td>70.0</td>\n",
              "    </tr>\n",
              "    <tr>\n",
              "      <th>2</th>\n",
              "      <td>18.0</td>\n",
              "      <td>8.0</td>\n",
              "      <td>318.0</td>\n",
              "      <td>150.0</td>\n",
              "      <td>3436.0</td>\n",
              "      <td>11.0</td>\n",
              "      <td>70.0</td>\n",
              "    </tr>\n",
              "    <tr>\n",
              "      <th>3</th>\n",
              "      <td>16.0</td>\n",
              "      <td>8.0</td>\n",
              "      <td>304.0</td>\n",
              "      <td>150.0</td>\n",
              "      <td>3433.0</td>\n",
              "      <td>12.0</td>\n",
              "      <td>70.0</td>\n",
              "    </tr>\n",
              "    <tr>\n",
              "      <th>4</th>\n",
              "      <td>17.0</td>\n",
              "      <td>8.0</td>\n",
              "      <td>302.0</td>\n",
              "      <td>140.0</td>\n",
              "      <td>3449.0</td>\n",
              "      <td>10.5</td>\n",
              "      <td>70.0</td>\n",
              "    </tr>\n",
              "  </tbody>\n",
              "</table>\n",
              "</div>"
            ],
            "text/plain": [
              "    mpg  cylinders  displacement  horsepower  weight  acceleration  year\n",
              "0  18.0        8.0         307.0       130.0  3504.0          12.0  70.0\n",
              "1  15.0        8.0         350.0       165.0  3693.0          11.5  70.0\n",
              "2  18.0        8.0         318.0       150.0  3436.0          11.0  70.0\n",
              "3  16.0        8.0         304.0       150.0  3433.0          12.0  70.0\n",
              "4  17.0        8.0         302.0       140.0  3449.0          10.5  70.0"
            ]
          },
          "metadata": {
            "tags": []
          },
          "execution_count": 24
        }
      ]
    },
    {
      "cell_type": "code",
      "metadata": {
        "id": "lQHny-dcKnth"
      },
      "source": [
        "df.iloc[:, 1:] = (df - df.mean())/df.std() #narmalizing the data except target variable "
      ],
      "execution_count": null,
      "outputs": []
    },
    {
      "cell_type": "code",
      "metadata": {
        "id": "iqJEGvpAdCdV"
      },
      "source": [
        "X = df.iloc[:, 1:]   # assigning features of the dataset to X except target\n",
        "ones = np.ones([len(df), 1])  # creating bias or intecept as new column \n",
        "X = np.concatenate((ones, X), axis=1) #adding features and bias column\n",
        "y = df.iloc[:, 0:1].values  # assigning target variable to y "
      ],
      "execution_count": null,
      "outputs": []
    },
    {
      "cell_type": "code",
      "metadata": {
        "id": "WruVucWPMf6M"
      },
      "source": [
        "#creating class interface for linear regression \n",
        "class LinearRegression():     \n",
        "  def __init__(self, X, y, alpha=0.1, iterations =500):\n",
        "\n",
        "    self.alpha = alpha\n",
        "    self.iterations = iterations         \n",
        "    self.n_samples = len(df)\n",
        "    self.total = len(df)\n",
        "    self.features = df.iloc[:, 1:].columns.tolist()      \n",
        "    self.number_of_features = len(self.features)\n",
        "    self.x = df.iloc[:, 1:]\n",
        "    self.ones = np.ones([self.total, 1])\n",
        "    self.X = np.concatenate((self.ones, self.x), axis=1)\n",
        "    self.y = df.iloc[:, 0:1].values\n",
        "    self.param = np.zeros([1, self.number_of_features+1])    # initiatzing first parameters as zeros\n",
        "    self.h = X @ self.param.T                                # this is ths hypothesis we need to find\n",
        "    self.coef = None\n",
        "    self.intercept = None\n",
        "\n",
        "  def compute_cost(self, X, y, param):                       # defining function to calculate cost\n",
        "    self.h = X @ self.param.T\n",
        "    self.j = np.power((self.h - self.y), 2)                  # mean squared error\n",
        "    self.sum = np.sum(self.j)/(2 * len(self.X))\n",
        "    return sum\n",
        "\n",
        "  def fit(self):                                             # creating function for training the model using \n",
        "    self.cost = np.zeros(self.iterations)                    # gradient descent \n",
        "    for i in range(self.iterations):\n",
        "      # partial dervivative generalized form of the gradient descent equation\n",
        "      self.param = self.param - (self.alpha/self.n_samples) * np.sum(self.X * (self.h - self.y), axis=0)\n",
        "      self.cost = self.compute_cost(X, y, self.param)        \n",
        "    return self\n",
        "\n",
        "  \n",
        "  def predict(self, X):                                      # fuction for predcting target value\n",
        "    y = X @ self.param.T\n",
        "    return y\n",
        "  \n",
        "\n",
        "  def get_param(self):                                        # to get final parameters for our model\n",
        "    return self.param  \n"
      ],
      "execution_count": null,
      "outputs": []
    },
    {
      "cell_type": "code",
      "metadata": {
        "id": "mmHk35o6TcX5"
      },
      "source": [
        "lenrreg = LinearRegression(X,y).fit() "
      ],
      "execution_count": null,
      "outputs": []
    },
    {
      "cell_type": "code",
      "metadata": {
        "id": "8jKClXtmOtec",
        "colab": {
          "base_uri": "https://localhost:8080/"
        },
        "outputId": "fd1e4d60-d2d4-451c-fb35-b9710ffb12c3"
      },
      "source": [
        "param = lenrreg.get_param()   #these are the optimal parameters for this model\n",
        "param"
      ],
      "execution_count": null,
      "outputs": [
        {
          "output_type": "execute_result",
          "data": {
            "text/plain": [
              "array([[23.44591837, -0.42633213,  0.46306897, -0.08745734, -5.53457722,\n",
              "         0.1691564 ,  2.7577403 ]])"
            ]
          },
          "metadata": {
            "tags": []
          },
          "execution_count": 29
        }
      ]
    },
    {
      "cell_type": "code",
      "metadata": {
        "id": "PvdlmPKoFG9t",
        "colab": {
          "base_uri": "https://localhost:8080/"
        },
        "outputId": "1e7fcb9c-315b-4f42-bc75-6fefbe30c963"
      },
      "source": [
        "lenrreg.predict(X[0])       #predicting the target value "
      ],
      "execution_count": null,
      "outputs": [
        {
          "output_type": "execute_result",
          "data": {
            "text/plain": [
              "array([15.1306311])"
            ]
          },
          "metadata": {
            "tags": []
          },
          "execution_count": 31
        }
      ]
    },
    {
      "cell_type": "code",
      "metadata": {
        "id": "eSFqnQjmFtoI"
      },
      "source": [
        ""
      ],
      "execution_count": null,
      "outputs": []
    }
  ]
}